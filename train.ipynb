{
 "cells": [
  {
   "cell_type": "code",
   "execution_count": 105,
   "metadata": {},
   "outputs": [],
   "source": [
    "import pandas as pd\n",
    "import numpy as np\n",
    "from sklearn.feature_extraction.text import HashingVectorizer, TfidfTransformer\n",
    "from sklearn.model_selection import StratifiedKFold\n",
    "from sklearn.metrics import accuracy_score\n",
    "from lightgbm import LGBMClassifier\n"
   ]
  },
  {
   "cell_type": "code",
   "execution_count": 45,
   "metadata": {},
   "outputs": [],
   "source": [
    "def taiga_to_df(dir_path, rubric_list=[]):\n",
    "    meta_df = pd.read_csv('{}/newmetadata.csv'.format(dir_path))\n",
    "    if len(rubric_list) > 0:\n",
    "        meta_df = meta_df[meta_df['textrubric'].apply(lambda x: True if x in rubric_list else False)]\n",
    "    text_arr = []\n",
    "    for text_id in meta_df['textid'].values:\n",
    "        with open('{}/texts/{}.txt'.format(dir_path, text_id)) as f:\n",
    "            text = f.read()\n",
    "            text_arr.append(text)\n",
    "\n",
    "    df = pd.DataFrame()\n",
    "    df['text'] = text_arr\n",
    "        \n",
    "    return df\n",
    "\n",
    "\n",
    "def chat_to_df(dir_path):\n",
    "    meta = pd.read_csv('{}/newmetadata.csv'.format(dir_path), sep='\\t')\n",
    "    meta = meta[meta['languages']=='ru']\n",
    "    meta['filepath'] = meta['filepath'].apply(lambda x: '{}/{}'.format(x.split(' - ')[0].strip(), x))\n",
    "\n",
    "    text_arr = []\n",
    "    for text_path in meta['filepath']:\n",
    "        try:\n",
    "            with open('{}/texts/{}'.format(dir_path, text_path)) as f:\n",
    "                text = ' '.join(pd.read_csv('{}/texts/{}'.format(dir_path, text_path), sep='\t', header=None)[:-3][3].values)\n",
    "                text = text.replace('- ', '')\n",
    "                text = text.replace('<i>', '')\n",
    "                text = text.replace('</i>', '')\n",
    "                text_arr.append(text)\n",
    "        except:\n",
    "            None\n",
    "            \n",
    "    df = pd.DataFrame()\n",
    "    df['text'] = text_arr\n",
    "    \n",
    "    return df"
   ]
  },
  {
   "cell_type": "code",
   "execution_count": 299,
   "metadata": {},
   "outputs": [],
   "source": [
    "tech_df = taiga_to_df('NPlus1', ['Технологии',  'Транспорт', 'Гаджеты', 'Наука',\n",
    "                       'Космос', 'Информационные технологии',\n",
    "                       'Физики смогли', 'Роботы и дроны', 'Персональная геномика',\n",
    "                       'Коллайдер', 'Обучение машин', 'Мезонин', 'Вакансии',\n",
    "                       'Органическое на 100% ', 'Партнерский материал',\n",
    "                       'Разное', 'Вулканы и землетрясения',\n",
    "                       'Генетика', 'Политех', 'Второй сезон Коллайдера'])\n",
    "\n",
    "proza_df = taiga_to_df('proza_ru', ['миниатюры', 'рассказы', 'ироническая проза',\n",
    "       'приключения', 'повести', 'юмористическая проза','стихи',\n",
    "       'детское творчество', 'новеллы', 'эротическая проза',\n",
    "       'стихотворения в прозе', 'романы',\n",
    "       'фантастика', 'сказки', 'мистика', 'мемуары', 'фельетоны',\n",
    "       'детективы', ' дай молока', ' когда-то', 'литература для детей', \n",
    "       'рассказы о детях', 'драматургия', 'ужасы', 'литературные переводы'])\n",
    "\n",
    "stihi_df = taiga_to_df('stihi_ru')\n",
    "\n",
    "chat_df = chat_to_df('chat_bot_training')\n",
    "\n",
    "tech_df['class'] = 0\n",
    "proza_df['class'] = 1\n",
    "stihi_df['class'] = 1\n",
    "chat_df['class'] = 2\n",
    "\n",
    "\n",
    "df = pd.concat([tech_df, proza_df, stihi_df, chat_df])\n",
    "df.index = range(len(df))"
   ]
  },
  {
   "cell_type": "code",
   "execution_count": 311,
   "metadata": {},
   "outputs": [],
   "source": [
    "df['processed_text'] = df['text'].apply(lambda x: x.lower().replace('*', '').replace('\\n', ' ').strip())\n",
    "df['processed_text'] = df['processed_text'].apply(lambda x: x[:500])\n"
   ]
  },
  {
   "cell_type": "code",
   "execution_count": 312,
   "metadata": {},
   "outputs": [],
   "source": [
    "hw = HashingVectorizer(n_features=200).fit(df['processed_text'])\n",
    "X = pd.DataFrame(hw.transform(df['processed_text']).todense())"
   ]
  },
  {
   "cell_type": "code",
   "execution_count": 313,
   "metadata": {},
   "outputs": [],
   "source": [
    "tfidf = TfidfTransformer()\n",
    "tfidf.fit(X)\n",
    "\n",
    "X = pd.DataFrame(tfidf.transform(X).todense())"
   ]
  },
  {
   "cell_type": "code",
   "execution_count": 314,
   "metadata": {},
   "outputs": [],
   "source": [
    "df['fold'] = np.nan\n",
    "fold_id = 0\n",
    "skf = StratifiedKFold(5)\n",
    "for itr, ite in skf.split(df, df['class']):\n",
    "    df.loc[ite, 'fold'] = fold_id\n",
    "    fold_id += 1"
   ]
  },
  {
   "cell_type": "code",
   "execution_count": 315,
   "metadata": {},
   "outputs": [
    {
     "name": "stdout",
     "output_type": "stream",
     "text": [
      "0.8862140040547871 +- 0.0302691297951493\n"
     ]
    }
   ],
   "source": [
    "scores = []\n",
    "for fold_id in range(5):\n",
    "    model = LGBMClassifier()\n",
    "    model.fit(X[df['fold'] != fold_id], df[df['fold'] != fold_id]['class'])\n",
    "    \n",
    "    pred = model.predict(X[df['fold'] == fold_id])\n",
    "    acc = accuracy_score(df[df['fold'] == fold_id]['class'], pred)\n",
    "    scores.append(acc)\n",
    "\n",
    "scores = np.array(scores)\n",
    "print('{} +- {}'.format(scores.mean(), scores.std()))"
   ]
  },
  {
   "cell_type": "code",
   "execution_count": 322,
   "metadata": {},
   "outputs": [
    {
     "data": {
      "image/png": "[encoded data removed]",
      "text/plain": [
       "<Figure size 432x288 with 1 Axes>"
      ]
     },
     "metadata": {
      "needs_background": "light"
     },
     "output_type": "display_data"
    }
   ],
   "source": [
    "import matplotlib.pyplot as plt\n",
    "plt.hist(df['class'])\n",
    "plt.show()"
   ]
  },
  {
   "cell_type": "markdown",
   "metadata": {},
   "source": [
    "# Inference"
   ]
  },
  {
   "cell_type": "code",
   "execution_count": 328,
   "metadata": {},
   "outputs": [
    {
     "data": {
      "text/plain": [
       "array([[0.49999089, 0.29589586, 0.20411325]])"
      ]
     },
     "execution_count": 328,
     "metadata": {},
     "output_type": "execute_result"
    }
   ],
   "source": [
    "text = 'Представьте, что вы работаете над программой текстового редактора. Дело как раз подошло к разработке панели управления. Вы создали класс красивых Кнопок и хотите использовать его для всех кнопок приложения, начиная от панели управления, заканчивая простыми кнопками в диалогах.'\n",
    "#text = ''\n",
    "text = text.lower().replace('*', '').replace('\\n', ' ').strip()\n",
    "model.predict_proba(tfidf.transform(hw.transform([text]).todense()).todense())"
   ]
  },
  {
   "cell_type": "code",
   "execution_count": null,
   "metadata": {},
   "outputs": [],
   "source": []
  },
  {
   "cell_type": "code",
   "execution_count": null,
   "metadata": {},
   "outputs": [],
   "source": []
  },
  {
   "cell_type": "code",
   "execution_count": null,
   "metadata": {},
   "outputs": [],
   "source": []
  },
  {
   "cell_type": "code",
   "execution_count": null,
   "metadata": {},
   "outputs": [],
   "source": []
  },
  {
   "cell_type": "code",
   "execution_count": null,
   "metadata": {},
   "outputs": [],
   "source": []
  },
  {
   "cell_type": "code",
   "execution_count": null,
   "metadata": {},
   "outputs": [],
   "source": []
  },
  {
   "cell_type": "code",
   "execution_count": null,
   "metadata": {},
   "outputs": [],
   "source": []
  },
  {
   "cell_type": "code",
   "execution_count": null,
   "metadata": {},
   "outputs": [],
   "source": []
  },
  {
   "cell_type": "code",
   "execution_count": null,
   "metadata": {},
   "outputs": [],
   "source": []
  },
  {
   "cell_type": "code",
   "execution_count": null,
   "metadata": {},
   "outputs": [],
   "source": []
  },
  {
   "cell_type": "code",
   "execution_count": null,
   "metadata": {},
   "outputs": [],
   "source": []
  }
 ],
 "metadata": {
  "kernelspec": {
   "display_name": "Python 3",
   "language": "python",
   "name": "python3"
  },
  "language_info": {
   "codemirror_mode": {
    "name": "ipython",
    "version": 3
   },
   "file_extension": ".py",
   "mimetype": "text/x-python",
   "name": "python",
   "nbconvert_exporter": "python",
   "pygments_lexer": "ipython3",
   "version": "3.6.9"
  }
 },
 "nbformat": 4,
 "nbformat_minor": 4
}
